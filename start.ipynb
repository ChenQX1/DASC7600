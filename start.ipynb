{
 "cells": [
  {
   "cell_type": "code",
   "execution_count": 1,
   "metadata": {},
   "outputs": [],
   "source": [
    "import os\n",
    "import numpy as np\n",
    "import pandas as pd"
   ]
  },
  {
   "cell_type": "markdown",
   "metadata": {},
   "source": [
    "## Sampling data"
   ]
  },
  {
   "cell_type": "code",
   "execution_count": 5,
   "metadata": {},
   "outputs": [],
   "source": [
    "data_root = './data'"
   ]
  },
  {
   "cell_type": "markdown",
   "metadata": {},
   "source": [
    "Under `data_root`, there are subset indices `train_idx.npy` and `test_idx.npy` for creating sample data."
   ]
  },
  {
   "cell_type": "code",
   "execution_count": 2,
   "metadata": {},
   "outputs": [],
   "source": [
    "sample_data_dir = './data/sample'\n",
    "\n",
    "if not os.path.exists(sample_data_dir):\n",
    "    os.makedirs(sample_data_dir)\n"
   ]
  },
  {
   "cell_type": "code",
   "execution_count": 8,
   "metadata": {},
   "outputs": [],
   "source": [
    "train_idx = np.load(os.path.join(data_root, 'train_idx.npy'))\n",
    "test_idx = np.load(os.path.join(data_root, 'test_idx.npy'))\n",
    "\n",
    "tables = ['Demographics.csv', 'ICD.csv', 'INP_MED.csv', 'Labels.csv', 'LABS.csv', 'OUT_MED.csv']\n",
    "\n",
    "x = pd.read_csv(os.path.join(data_root, tables[0]))"
   ]
  },
  {
   "cell_type": "code",
   "execution_count": 33,
   "metadata": {},
   "outputs": [],
   "source": [
    "all_idx = x['idx'].unique()\n",
    "\n",
    "not_select_train = list(set(all_idx.tolist()) - set(train_idx.tolist()))\n",
    "not_select_test = list(set(all_idx.tolist()) - set(test_idx.tolist()))\n",
    "\n",
    "select_map_train = dict(zip(train_idx.tolist(), [True for _ in range(len(train_idx))]))\n",
    "not_select_map_train = dict(zip(not_select_train, [False for _ in range(len(not_select_train))]))\n",
    "\n",
    "select_map_test = dict(zip(test_idx.tolist(), [True for _ in range(len(test_idx))]))\n",
    "not_select_map_test = dict(zip(not_select_test, [False for _ in range(len(not_select_test))]))\n"
   ]
  },
  {
   "cell_type": "code",
   "execution_count": 34,
   "metadata": {},
   "outputs": [],
   "source": [
    "for tb_name in tables:\n",
    "    tb = pd.read_csv(os.path.join(data_root, tb_name))\n",
    "    if 'Unnamed: 0' in tb.columns:\n",
    "        tb = tb.drop('Unnamed: 0', axis=1)\n",
    "    tb_sample_train = tb[tb['idx'].map(select_map_train | not_select_map_train)]\n",
    "    tb_sample_test = tb[tb['idx'].map(select_map_test | not_select_map_test)]\n",
    "    \n",
    "    tb_merged = pd.concat([tb_sample_train, tb_sample_test], axis=0)\n",
    "\n",
    "    tb_merged.to_csv(os.path.join(sample_data_dir, tb_name), index=False)"
   ]
  },
  {
   "cell_type": "code",
   "execution_count": 36,
   "metadata": {},
   "outputs": [],
   "source": [
    "import shutil\n",
    "\n",
    "for img_name in (train_idx.tolist() + test_idx.tolist()):\n",
    "    shutil.copy(\n",
    "        os.path.join(data_root, f'{img_name}.npy'),\n",
    "        sample_data_dir\n",
    "    )"
   ]
  },
  {
   "cell_type": "code",
   "execution_count": 43,
   "metadata": {},
   "outputs": [],
   "source": [
    "import pickle\n",
    "\n",
    "fd = open('./series_list.pkl', 'rb')\n",
    "series_list = pickle.load(fd)\n",
    "\n",
    "sereis_list_smaple = []\n",
    "for s in series_list:\n",
    "    if s.study_num in (train_idx.tolist() + test_idx.tolist()):\n",
    "        sereis_list_smaple.append(s)"
   ]
  },
  {
   "cell_type": "code",
   "execution_count": 63,
   "metadata": {},
   "outputs": [],
   "source": [
    "fd = open(os.path.join(sample_data_dir, 'series_list.pkl'), 'wb')\n",
    "pickle.dump(sereis_list_smaple, fd)\n",
    "fd.close()\n"
   ]
  },
  {
   "cell_type": "code",
   "execution_count": null,
   "metadata": {},
   "outputs": [],
   "source": []
  }
 ],
 "metadata": {
  "interpreter": {
   "hash": "5419a76c6b918e2fe81a66dd819aef4368dfb1194adc1d1adc2e5497a5e99aa4"
  },
  "kernelspec": {
   "display_name": "Python 3.9.13 ('np_veclib')",
   "language": "python",
   "name": "python3"
  },
  "language_info": {
   "codemirror_mode": {
    "name": "ipython",
    "version": 3
   },
   "file_extension": ".py",
   "mimetype": "text/x-python",
   "name": "python",
   "nbconvert_exporter": "python",
   "pygments_lexer": "ipython3",
   "version": "3.9.13"
  },
  "orig_nbformat": 4
 },
 "nbformat": 4,
 "nbformat_minor": 2
}
